{
 "cells": [
  {
   "cell_type": "code",
   "execution_count": null,
   "id": "b26b80f8",
   "metadata": {},
   "outputs": [],
   "source": [
    "import yfinance as yf\n",
    "import pandas as pd\n",
    "import matplotlib.pyplot as plt\n",
    "\n",
    "# List of NIFTY 50 tickers\n",
    "nifty50_tickers = [\n",
    "   \"RELIANCE.NS\",\"BPCL.NS\",\"ASIANPAINT.NS\",\"EICHERMOT.NS\",\"GRASIM.NS\",\"HDFCBANK.NS\",\"M&M.NS\",\"ICICIBANK.NS\",\"INDUSINDBK.NS\",\"SBIN.NS\",\"TATASTEEL.NS\",\"TATAMOTORS.NS\",\"JSWSTEEL.NS\",\n",
    "                    \"TATACONSUM.NS\",\"BRITANNIA.NS\",\"KOTAKBANK.NS\",\"AXISBANK.NS\",\"TITAN.NS\",\"ONGC.NS\",\"BAJFINANCE.NS\",\"INFY.NS\",\"WIPRO.NS\",\"HINDUNILVR.NS\",\"APOLLOHOSP.NS\",\"HCLTECH.NS\",\"HEROMOTOCO.NS\",\n",
    "                    \"DRREDDY.NS\",\"BHARTIARTL.NS\",\"SUNPHARMA.NS\",\"DIVISLAB.NS\",\"MARUTI.NS\",\"CIPLA.NS\",\"LT.NS\",\"ULTRACEMCO.NS\",\"TCS.NS\",\"ADANIENT.NS\",\"NTPC.NS\",\"HINDALCO.NS\",\"ITC.NS\",\"TECHM.NS\",\n",
    "                    \"POWERGRID.NS\",\"ADANIPORTS.NS\",\"BAJAJFINSV.NS\",\"BAJAJ-AUTO.NS\",\"NESTLEIND.NS\",\"COALINDIA.NS\",\"LTIM.NS\",\"SBILIFE.NS\",\"HDFCLIFE.NS\" \n",
    "    \n",
    "]\n",
    "\n",
    "# Fetch the data for the last two days\n",
    "data = {}\n",
    "for ticker in nifty50_tickers:\n",
    "    stock_data = yf.download(ticker, period='1d', interval='1m')\n",
    "    if not stock_data.empty:\n",
    "        data[ticker] = stock_data['Close']\n",
    "\n",
    "# Convert the data into a DataFrame\n",
    "df = pd.DataFrame(data)\n",
    "\n",
    "# Calculate the percentage change from the previous day's close\n",
    "previous_close = df.iloc[0]\n",
    "percentage_change = (df - previous_close) / previous_close * 100\n",
    "\n",
    "numb=5\n",
    "\n",
    "# Get the top 5 performing stocks based on the percentage change\n",
    "end_of_day_change = percentage_change.iloc[-1]\n",
    "top_5_tickers = end_of_day_change.nlargest(numb).index\n",
    "\n",
    "# Plot the line chart for the day's performance of top 5 stocks\n",
    "plt.figure(figsize=(10, 6))\n",
    "for ticker in top_5_tickers:\n",
    "    plt.plot(percentage_change.index, percentage_change[ticker], label=ticker)\n",
    "\n",
    "plt.title(f\"Top {numb} Performing NIFTY 50 Stocks - Percentage Change from prior day\")\n",
    "plt.xlabel(\"Time\")\n",
    "plt.ylabel(\"Percentage Change (%)\")\n",
    "plt.legend()\n",
    "plt.grid(True)\n",
    "plt.tight_layout()\n",
    "plt.show()\n",
    "\n",
    "\n",
    "top_5_tickers\n"
   ]
  }
 ],
 "metadata": {
  "kernelspec": {
   "display_name": "Python 3 (ipykernel)",
   "language": "python",
   "name": "python3"
  },
  "language_info": {
   "codemirror_mode": {
    "name": "ipython",
    "version": 3
   },
   "file_extension": ".py",
   "mimetype": "text/x-python",
   "name": "python",
   "nbconvert_exporter": "python",
   "pygments_lexer": "ipython3",
   "version": "3.10.9"
  }
 },
 "nbformat": 4,
 "nbformat_minor": 5
}
